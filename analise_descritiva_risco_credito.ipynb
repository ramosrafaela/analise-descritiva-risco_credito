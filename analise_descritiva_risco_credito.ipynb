{
 "cells": [
  {
   "cell_type": "markdown",
   "id": "da888419",
   "metadata": {},
   "source": [
    "# Problema a ser analisado:\n",
    "\n",
    "Um grande banco tem o objetivo de desenvolver um modelo para identificar maior probabilidade de default. Sua tarefa será realizar uma análise descritiva e tratamento dos dados para entender o perfil dos clientes e quais fatores podem influenciar no risco de crédito."
   ]
  },
  {
   "cell_type": "code",
   "execution_count": 2,
   "id": "ed1f82f7",
   "metadata": {},
   "outputs": [],
   "source": [
    "#importando bibliotecas necessárias para a analise\n",
    "import pandas as pd\n",
    "import numpy as np\n",
    "import seaborn as sns\n",
    "import statistics as sts\n",
    "import matplotlib.pyplot as plt"
   ]
  },
  {
   "cell_type": "code",
   "execution_count": 3,
   "id": "7bc3b0ba",
   "metadata": {},
   "outputs": [
    {
     "data": {
      "text/html": [
       "<div>\n",
       "<style scoped>\n",
       "    .dataframe tbody tr th:only-of-type {\n",
       "        vertical-align: middle;\n",
       "    }\n",
       "\n",
       "    .dataframe tbody tr th {\n",
       "        vertical-align: top;\n",
       "    }\n",
       "\n",
       "    .dataframe thead th {\n",
       "        text-align: right;\n",
       "    }\n",
       "</style>\n",
       "<table border=\"1\" class=\"dataframe\">\n",
       "  <thead>\n",
       "    <tr style=\"text-align: right;\">\n",
       "      <th></th>\n",
       "      <th>default</th>\n",
       "      <th>t_risco</th>\n",
       "      <th>valor_emprestimo</th>\n",
       "      <th>prazo_pagamento</th>\n",
       "      <th>limite_credito</th>\n",
       "      <th>renda</th>\n",
       "      <th>signo</th>\n",
       "      <th>genero</th>\n",
       "      <th>perfil_facebook</th>\n",
       "      <th>n_emprestimos_inadiplentes</th>\n",
       "    </tr>\n",
       "  </thead>\n",
       "  <tbody>\n",
       "    <tr>\n",
       "      <th>0</th>\n",
       "      <td>False</td>\n",
       "      <td>0.43</td>\n",
       "      <td>20024.31</td>\n",
       "      <td>60.0</td>\n",
       "      <td>62386.0</td>\n",
       "      <td>59869.05</td>\n",
       "      <td>virg</td>\n",
       "      <td>f</td>\n",
       "      <td>True</td>\n",
       "      <td>0.0</td>\n",
       "    </tr>\n",
       "    <tr>\n",
       "      <th>1</th>\n",
       "      <td>False</td>\n",
       "      <td>0.23</td>\n",
       "      <td>10046.51</td>\n",
       "      <td>36.0</td>\n",
       "      <td>NaN</td>\n",
       "      <td>46016.31</td>\n",
       "      <td>sagi</td>\n",
       "      <td>f</td>\n",
       "      <td>False</td>\n",
       "      <td>0.0</td>\n",
       "    </tr>\n",
       "    <tr>\n",
       "      <th>2</th>\n",
       "      <td>False</td>\n",
       "      <td>0.30</td>\n",
       "      <td>21228.25</td>\n",
       "      <td>60.0</td>\n",
       "      <td>NaN</td>\n",
       "      <td>48025.47</td>\n",
       "      <td>libr</td>\n",
       "      <td>m</td>\n",
       "      <td>True</td>\n",
       "      <td>0.0</td>\n",
       "    </tr>\n",
       "    <tr>\n",
       "      <th>3</th>\n",
       "      <td>False</td>\n",
       "      <td>0.15</td>\n",
       "      <td>23032.33</td>\n",
       "      <td>36.0</td>\n",
       "      <td>NaN</td>\n",
       "      <td>46011.12</td>\n",
       "      <td>NaN</td>\n",
       "      <td>m</td>\n",
       "      <td>False</td>\n",
       "      <td>0.0</td>\n",
       "    </tr>\n",
       "    <tr>\n",
       "      <th>4</th>\n",
       "      <td>False</td>\n",
       "      <td>0.08</td>\n",
       "      <td>24026.29</td>\n",
       "      <td>36.0</td>\n",
       "      <td>32366.0</td>\n",
       "      <td>90026.17</td>\n",
       "      <td>libr</td>\n",
       "      <td>m</td>\n",
       "      <td>NaN</td>\n",
       "      <td>0.0</td>\n",
       "    </tr>\n",
       "  </tbody>\n",
       "</table>\n",
       "</div>"
      ],
      "text/plain": [
       "  default  t_risco  valor_emprestimo  prazo_pagamento  limite_credito  \\\n",
       "0   False     0.43          20024.31             60.0         62386.0   \n",
       "1   False     0.23          10046.51             36.0             NaN   \n",
       "2   False     0.30          21228.25             60.0             NaN   \n",
       "3   False     0.15          23032.33             36.0             NaN   \n",
       "4   False     0.08          24026.29             36.0         32366.0   \n",
       "\n",
       "      renda signo genero perfil_facebook  n_emprestimos_inadiplentes  \n",
       "0  59869.05  virg      f            True                         0.0  \n",
       "1  46016.31  sagi      f           False                         0.0  \n",
       "2  48025.47  libr      m            True                         0.0  \n",
       "3  46011.12   NaN      m           False                         0.0  \n",
       "4  90026.17  libr      m             NaN                         0.0  "
      ]
     },
     "execution_count": 3,
     "metadata": {},
     "output_type": "execute_result"
    }
   ],
   "source": [
    "#lendo o dataframe\n",
    "df = pd.read_csv(\"risco_credito.csv\")\n",
    "df.head()"
   ]
  },
  {
   "cell_type": "code",
   "execution_count": 4,
   "id": "754c0b52",
   "metadata": {},
   "outputs": [
    {
     "data": {
      "text/html": [
       "<div>\n",
       "<style scoped>\n",
       "    .dataframe tbody tr th:only-of-type {\n",
       "        vertical-align: middle;\n",
       "    }\n",
       "\n",
       "    .dataframe tbody tr th {\n",
       "        vertical-align: top;\n",
       "    }\n",
       "\n",
       "    .dataframe thead th {\n",
       "        text-align: right;\n",
       "    }\n",
       "</style>\n",
       "<table border=\"1\" class=\"dataframe\">\n",
       "  <thead>\n",
       "    <tr style=\"text-align: right;\">\n",
       "      <th></th>\n",
       "      <th>default</th>\n",
       "      <th>t_risco</th>\n",
       "      <th>valor_emprestimo</th>\n",
       "      <th>prazo_pagamento</th>\n",
       "      <th>limite_credito</th>\n",
       "      <th>renda</th>\n",
       "      <th>signo</th>\n",
       "      <th>genero</th>\n",
       "      <th>perfil_facebook</th>\n",
       "      <th>n_emprestimos_inadiplentes</th>\n",
       "    </tr>\n",
       "  </thead>\n",
       "  <tbody>\n",
       "    <tr>\n",
       "      <th>64587</th>\n",
       "      <td>False</td>\n",
       "      <td>0.33</td>\n",
       "      <td>7230.74</td>\n",
       "      <td>36.0</td>\n",
       "      <td>NaN</td>\n",
       "      <td>57012.14</td>\n",
       "      <td>libr</td>\n",
       "      <td>m</td>\n",
       "      <td>True</td>\n",
       "      <td>0.0</td>\n",
       "    </tr>\n",
       "    <tr>\n",
       "      <th>64588</th>\n",
       "      <td>False</td>\n",
       "      <td>0.20</td>\n",
       "      <td>9764.01</td>\n",
       "      <td>36.0</td>\n",
       "      <td>15478.0</td>\n",
       "      <td>76032.77</td>\n",
       "      <td>leo</td>\n",
       "      <td>m</td>\n",
       "      <td>False</td>\n",
       "      <td>0.0</td>\n",
       "    </tr>\n",
       "    <tr>\n",
       "      <th>64589</th>\n",
       "      <td>False</td>\n",
       "      <td>0.53</td>\n",
       "      <td>35022.28</td>\n",
       "      <td>60.0</td>\n",
       "      <td>18658.0</td>\n",
       "      <td>100028.45</td>\n",
       "      <td>NaN</td>\n",
       "      <td>f</td>\n",
       "      <td>False</td>\n",
       "      <td>0.0</td>\n",
       "    </tr>\n",
       "    <tr>\n",
       "      <th>64590</th>\n",
       "      <td>False</td>\n",
       "      <td>0.43</td>\n",
       "      <td>20015.96</td>\n",
       "      <td>36.0</td>\n",
       "      <td>NaN</td>\n",
       "      <td>109561.85</td>\n",
       "      <td>arie</td>\n",
       "      <td>m</td>\n",
       "      <td>False</td>\n",
       "      <td>0.0</td>\n",
       "    </tr>\n",
       "    <tr>\n",
       "      <th>64591</th>\n",
       "      <td>False</td>\n",
       "      <td>0.35</td>\n",
       "      <td>16327.45</td>\n",
       "      <td>36.0</td>\n",
       "      <td>11904.0</td>\n",
       "      <td>41023.92</td>\n",
       "      <td>NaN</td>\n",
       "      <td>m</td>\n",
       "      <td>True</td>\n",
       "      <td>0.0</td>\n",
       "    </tr>\n",
       "  </tbody>\n",
       "</table>\n",
       "</div>"
      ],
      "text/plain": [
       "      default  t_risco  valor_emprestimo  prazo_pagamento  limite_credito  \\\n",
       "64587   False     0.33           7230.74             36.0             NaN   \n",
       "64588   False     0.20           9764.01             36.0         15478.0   \n",
       "64589   False     0.53          35022.28             60.0         18658.0   \n",
       "64590   False     0.43          20015.96             36.0             NaN   \n",
       "64591   False     0.35          16327.45             36.0         11904.0   \n",
       "\n",
       "           renda signo genero perfil_facebook  n_emprestimos_inadiplentes  \n",
       "64587   57012.14  libr      m            True                         0.0  \n",
       "64588   76032.77   leo      m           False                         0.0  \n",
       "64589  100028.45   NaN      f           False                         0.0  \n",
       "64590  109561.85  arie      m           False                         0.0  \n",
       "64591   41023.92   NaN      m            True                         0.0  "
      ]
     },
     "execution_count": 4,
     "metadata": {},
     "output_type": "execute_result"
    }
   ],
   "source": [
    "df.tail()"
   ]
  },
  {
   "cell_type": "code",
   "execution_count": null,
   "id": "c002a463",
   "metadata": {},
   "outputs": [],
   "source": [
    "#eliminando colunas desnecessárias para a analise\n",
    "df = df.drop(columns=['signo', 'perfil_facebook'])\n",
    "df.head(10)"
   ]
  },
  {
   "cell_type": "code",
   "execution_count": 6,
   "id": "4e2a180d",
   "metadata": {},
   "outputs": [],
   "source": [
    "#criando funcao para ter informacoes sobre os dados\n",
    "def show_info(data) :\n",
    "    print('DATASET SHAPE: ', data.shape, '\\n')\n",
    "    print('-'*50)\n",
    "    print('FEATURE DATA TYPES:')\n",
    "    print(data.info())\n",
    "    print('\\n', '-'*50)\n",
    "    print('NUMBER OF UNIQUE VALUES PER FEATURE:', '\\n')\n",
    "    print(data.nunique())\n",
    "    print('\\n', '-'*50)\n",
    "    print('NULL VALUES PER FEATURE')\n",
    "    print(data.isnull().sum())\n",
    "  "
   ]
  },
  {
   "cell_type": "code",
   "execution_count": 7,
   "id": "45954e07",
   "metadata": {},
   "outputs": [
    {
     "name": "stdout",
     "output_type": "stream",
     "text": [
      "DATASET SHAPE:  (64592, 8) \n",
      "\n",
      "--------------------------------------------------\n",
      "FEATURE DATA TYPES:\n",
      "<class 'pandas.core.frame.DataFrame'>\n",
      "RangeIndex: 64592 entries, 0 to 64591\n",
      "Data columns (total 8 columns):\n",
      " #   Column                      Non-Null Count  Dtype  \n",
      "---  ------                      --------------  -----  \n",
      " 0   default                     59966 non-null  object \n",
      " 1   t_risco                     63807 non-null  float64\n",
      " 2   valor_emprestimo            63807 non-null  float64\n",
      " 3   prazo_pagamento             63807 non-null  float64\n",
      " 4   limite_credito              44839 non-null  float64\n",
      " 5   renda                       63807 non-null  float64\n",
      " 6   genero                      57406 non-null  object \n",
      " 7   n_emprestimos_inadiplentes  63789 non-null  float64\n",
      "dtypes: float64(6), object(2)\n",
      "memory usage: 3.9+ MB\n",
      "None\n",
      "\n",
      " --------------------------------------------------\n",
      "NUMBER OF UNIQUE VALUES PER FEATURE: \n",
      "\n",
      "default                           2\n",
      "t_risco                          82\n",
      "valor_emprestimo              53348\n",
      "prazo_pagamento                   2\n",
      "limite_credito                28259\n",
      "renda                         57430\n",
      "genero                            2\n",
      "n_emprestimos_inadiplentes        5\n",
      "dtype: int64\n",
      "\n",
      " --------------------------------------------------\n",
      "NULL VALUES PER FEATURE\n",
      "default                        4626\n",
      "t_risco                         785\n",
      "valor_emprestimo                785\n",
      "prazo_pagamento                 785\n",
      "limite_credito                19753\n",
      "renda                           785\n",
      "genero                         7186\n",
      "n_emprestimos_inadiplentes      803\n",
      "dtype: int64\n"
     ]
    }
   ],
   "source": [
    "show_info(df)"
   ]
  },
  {
   "cell_type": "markdown",
   "id": "8d48865f",
   "metadata": {},
   "source": [
    "### ANALISE DESCRITÍVA"
   ]
  },
  {
   "cell_type": "code",
   "execution_count": 8,
   "id": "b0781d86",
   "metadata": {},
   "outputs": [
    {
     "data": {
      "text/plain": [
       "Index(['default', 't_risco', 'valor_emprestimo', 'prazo_pagamento',\n",
       "       'limite_credito', 'renda', 'genero', 'n_emprestimos_inadiplentes'],\n",
       "      dtype='object')"
      ]
     },
     "execution_count": 8,
     "metadata": {},
     "output_type": "execute_result"
    }
   ],
   "source": [
    "df.columns"
   ]
  },
  {
   "cell_type": "code",
   "execution_count": 9,
   "id": "97322620",
   "metadata": {},
   "outputs": [
    {
     "data": {
      "text/html": [
       "<div>\n",
       "<style scoped>\n",
       "    .dataframe tbody tr th:only-of-type {\n",
       "        vertical-align: middle;\n",
       "    }\n",
       "\n",
       "    .dataframe tbody tr th {\n",
       "        vertical-align: top;\n",
       "    }\n",
       "\n",
       "    .dataframe thead th {\n",
       "        text-align: right;\n",
       "    }\n",
       "</style>\n",
       "<table border=\"1\" class=\"dataframe\">\n",
       "  <thead>\n",
       "    <tr style=\"text-align: right;\">\n",
       "      <th></th>\n",
       "      <th>default</th>\n",
       "      <th>t_risco</th>\n",
       "      <th>valor_emprestimo</th>\n",
       "      <th>prazo_pagamento</th>\n",
       "      <th>limite_credito</th>\n",
       "      <th>renda</th>\n",
       "      <th>genero</th>\n",
       "      <th>n_emprestimos_inadiplentes</th>\n",
       "    </tr>\n",
       "  </thead>\n",
       "  <tbody>\n",
       "    <tr>\n",
       "      <th>0</th>\n",
       "      <td>False</td>\n",
       "      <td>0.43</td>\n",
       "      <td>20024.31</td>\n",
       "      <td>60.0</td>\n",
       "      <td>62386.0</td>\n",
       "      <td>59869.05</td>\n",
       "      <td>f</td>\n",
       "      <td>0.0</td>\n",
       "    </tr>\n",
       "    <tr>\n",
       "      <th>1</th>\n",
       "      <td>False</td>\n",
       "      <td>0.23</td>\n",
       "      <td>10046.51</td>\n",
       "      <td>36.0</td>\n",
       "      <td>NaN</td>\n",
       "      <td>46016.31</td>\n",
       "      <td>f</td>\n",
       "      <td>0.0</td>\n",
       "    </tr>\n",
       "    <tr>\n",
       "      <th>2</th>\n",
       "      <td>False</td>\n",
       "      <td>0.30</td>\n",
       "      <td>21228.25</td>\n",
       "      <td>60.0</td>\n",
       "      <td>NaN</td>\n",
       "      <td>48025.47</td>\n",
       "      <td>m</td>\n",
       "      <td>0.0</td>\n",
       "    </tr>\n",
       "    <tr>\n",
       "      <th>3</th>\n",
       "      <td>False</td>\n",
       "      <td>0.15</td>\n",
       "      <td>23032.33</td>\n",
       "      <td>36.0</td>\n",
       "      <td>NaN</td>\n",
       "      <td>46011.12</td>\n",
       "      <td>m</td>\n",
       "      <td>0.0</td>\n",
       "    </tr>\n",
       "    <tr>\n",
       "      <th>4</th>\n",
       "      <td>False</td>\n",
       "      <td>0.08</td>\n",
       "      <td>24026.29</td>\n",
       "      <td>36.0</td>\n",
       "      <td>32366.0</td>\n",
       "      <td>90026.17</td>\n",
       "      <td>m</td>\n",
       "      <td>0.0</td>\n",
       "    </tr>\n",
       "    <tr>\n",
       "      <th>5</th>\n",
       "      <td>False</td>\n",
       "      <td>0.22</td>\n",
       "      <td>8007.11</td>\n",
       "      <td>36.0</td>\n",
       "      <td>NaN</td>\n",
       "      <td>43008.57</td>\n",
       "      <td>f</td>\n",
       "      <td>0.0</td>\n",
       "    </tr>\n",
       "    <tr>\n",
       "      <th>6</th>\n",
       "      <td>False</td>\n",
       "      <td>0.42</td>\n",
       "      <td>10072.16</td>\n",
       "      <td>36.0</td>\n",
       "      <td>0.0</td>\n",
       "      <td>39335.52</td>\n",
       "      <td>m</td>\n",
       "      <td>0.0</td>\n",
       "    </tr>\n",
       "    <tr>\n",
       "      <th>7</th>\n",
       "      <td>False</td>\n",
       "      <td>0.42</td>\n",
       "      <td>16016.97</td>\n",
       "      <td>60.0</td>\n",
       "      <td>102018.0</td>\n",
       "      <td>98772.00</td>\n",
       "      <td>m</td>\n",
       "      <td>0.0</td>\n",
       "    </tr>\n",
       "    <tr>\n",
       "      <th>8</th>\n",
       "      <td>False</td>\n",
       "      <td>0.36</td>\n",
       "      <td>11517.24</td>\n",
       "      <td>60.0</td>\n",
       "      <td>0.0</td>\n",
       "      <td>62014.40</td>\n",
       "      <td>f</td>\n",
       "      <td>0.0</td>\n",
       "    </tr>\n",
       "    <tr>\n",
       "      <th>9</th>\n",
       "      <td>False</td>\n",
       "      <td>0.24</td>\n",
       "      <td>11539.08</td>\n",
       "      <td>36.0</td>\n",
       "      <td>82310.0</td>\n",
       "      <td>85022.96</td>\n",
       "      <td>f</td>\n",
       "      <td>0.0</td>\n",
       "    </tr>\n",
       "  </tbody>\n",
       "</table>\n",
       "</div>"
      ],
      "text/plain": [
       "  default  t_risco  valor_emprestimo  prazo_pagamento  limite_credito  \\\n",
       "0   False     0.43          20024.31             60.0         62386.0   \n",
       "1   False     0.23          10046.51             36.0             NaN   \n",
       "2   False     0.30          21228.25             60.0             NaN   \n",
       "3   False     0.15          23032.33             36.0             NaN   \n",
       "4   False     0.08          24026.29             36.0         32366.0   \n",
       "5   False     0.22           8007.11             36.0             NaN   \n",
       "6   False     0.42          10072.16             36.0             0.0   \n",
       "7   False     0.42          16016.97             60.0        102018.0   \n",
       "8   False     0.36          11517.24             60.0             0.0   \n",
       "9   False     0.24          11539.08             36.0         82310.0   \n",
       "\n",
       "      renda genero  n_emprestimos_inadiplentes  \n",
       "0  59869.05      f                         0.0  \n",
       "1  46016.31      f                         0.0  \n",
       "2  48025.47      m                         0.0  \n",
       "3  46011.12      m                         0.0  \n",
       "4  90026.17      m                         0.0  \n",
       "5  43008.57      f                         0.0  \n",
       "6  39335.52      m                         0.0  \n",
       "7  98772.00      m                         0.0  \n",
       "8  62014.40      f                         0.0  \n",
       "9  85022.96      f                         0.0  "
      ]
     },
     "execution_count": 9,
     "metadata": {},
     "output_type": "execute_result"
    }
   ],
   "source": [
    "df.head(10)"
   ]
  },
  {
   "cell_type": "code",
   "execution_count": 10,
   "id": "46e758b1",
   "metadata": {},
   "outputs": [],
   "source": [
    "numerical = ['t_risco','valor_emprestimo','prazo_pagamento','limite_credito', 'n_emprestimos_inadiplentes']"
   ]
  },
  {
   "cell_type": "code",
   "execution_count": 11,
   "id": "26451cd1",
   "metadata": {},
   "outputs": [
    {
     "data": {
      "text/html": [
       "<div>\n",
       "<style scoped>\n",
       "    .dataframe tbody tr th:only-of-type {\n",
       "        vertical-align: middle;\n",
       "    }\n",
       "\n",
       "    .dataframe tbody tr th {\n",
       "        vertical-align: top;\n",
       "    }\n",
       "\n",
       "    .dataframe thead th {\n",
       "        text-align: right;\n",
       "    }\n",
       "</style>\n",
       "<table border=\"1\" class=\"dataframe\">\n",
       "  <thead>\n",
       "    <tr style=\"text-align: right;\">\n",
       "      <th></th>\n",
       "      <th>count</th>\n",
       "      <th>mean</th>\n",
       "      <th>std</th>\n",
       "      <th>min</th>\n",
       "      <th>25%</th>\n",
       "      <th>50%</th>\n",
       "      <th>75%</th>\n",
       "      <th>max</th>\n",
       "    </tr>\n",
       "  </thead>\n",
       "  <tbody>\n",
       "    <tr>\n",
       "      <th>t_risco</th>\n",
       "      <td>63807.0</td>\n",
       "      <td>0.30</td>\n",
       "      <td>0.10</td>\n",
       "      <td>0.00</td>\n",
       "      <td>0.22</td>\n",
       "      <td>0.29</td>\n",
       "      <td>0.36</td>\n",
       "      <td>0.9</td>\n",
       "    </tr>\n",
       "    <tr>\n",
       "      <th>valor_emprestimo</th>\n",
       "      <td>63807.0</td>\n",
       "      <td>13853.28</td>\n",
       "      <td>8105.66</td>\n",
       "      <td>527.07</td>\n",
       "      <td>7762.94</td>\n",
       "      <td>12023.68</td>\n",
       "      <td>19384.82</td>\n",
       "      <td>35059.6</td>\n",
       "    </tr>\n",
       "    <tr>\n",
       "      <th>prazo_pagamento</th>\n",
       "      <td>63807.0</td>\n",
       "      <td>41.84</td>\n",
       "      <td>10.30</td>\n",
       "      <td>36.00</td>\n",
       "      <td>36.00</td>\n",
       "      <td>36.00</td>\n",
       "      <td>36.00</td>\n",
       "      <td>60.0</td>\n",
       "    </tr>\n",
       "    <tr>\n",
       "      <th>limite_credito</th>\n",
       "      <td>44839.0</td>\n",
       "      <td>34562.01</td>\n",
       "      <td>37041.87</td>\n",
       "      <td>0.00</td>\n",
       "      <td>10000.00</td>\n",
       "      <td>25775.00</td>\n",
       "      <td>47326.50</td>\n",
       "      <td>613117.0</td>\n",
       "    </tr>\n",
       "    <tr>\n",
       "      <th>n_emprestimos_inadiplentes</th>\n",
       "      <td>63789.0</td>\n",
       "      <td>0.00</td>\n",
       "      <td>0.08</td>\n",
       "      <td>0.00</td>\n",
       "      <td>0.00</td>\n",
       "      <td>0.00</td>\n",
       "      <td>0.00</td>\n",
       "      <td>5.0</td>\n",
       "    </tr>\n",
       "  </tbody>\n",
       "</table>\n",
       "</div>"
      ],
      "text/plain": [
       "                              count      mean       std     min       25%  \\\n",
       "t_risco                     63807.0      0.30      0.10    0.00      0.22   \n",
       "valor_emprestimo            63807.0  13853.28   8105.66  527.07   7762.94   \n",
       "prazo_pagamento             63807.0     41.84     10.30   36.00     36.00   \n",
       "limite_credito              44839.0  34562.01  37041.87    0.00  10000.00   \n",
       "n_emprestimos_inadiplentes  63789.0      0.00      0.08    0.00      0.00   \n",
       "\n",
       "                                 50%       75%       max  \n",
       "t_risco                         0.29      0.36       0.9  \n",
       "valor_emprestimo            12023.68  19384.82   35059.6  \n",
       "prazo_pagamento                36.00     36.00      60.0  \n",
       "limite_credito              25775.00  47326.50  613117.0  \n",
       "n_emprestimos_inadiplentes      0.00      0.00       5.0  "
      ]
     },
     "execution_count": 11,
     "metadata": {},
     "output_type": "execute_result"
    }
   ],
   "source": [
    "#vamos obter as propriedades estatisticas de cada coluna\n",
    "df[numerical].describe().round(2).T"
   ]
  },
  {
   "cell_type": "code",
   "execution_count": 12,
   "id": "c6daff57",
   "metadata": {},
   "outputs": [
    {
     "name": "stdout",
     "output_type": "stream",
     "text": [
      "mediana_t_risco: \n",
      " 0.55\n",
      "mediana_valor_emprestimo: \n",
      " 11066.56\n",
      "mediana_prazo_pagamento: \n",
      " 60.0\n",
      "mediana_limite_credito: \n",
      " nan\n",
      "mediana_n_emprestimos_inadiplentes: \n",
      " 0.0\n"
     ]
    }
   ],
   "source": [
    "#calculo mediana\n",
    "mediana_t_risco = sts.median(df['t_risco'])\n",
    "mediana_valor_emprestimo = sts.median(df['valor_emprestimo'])\n",
    "mediana_prazo_pagamento = sts.median(df['prazo_pagamento'])\n",
    "mediana_limite_credito = sts.median(df['limite_credito'])\n",
    "mediana_n_emprestimos_inadiplentes = sts.median(df['n_emprestimos_inadiplentes'])\n",
    "\n",
    "print('mediana_t_risco: \\n',round(mediana_t_risco,2))\n",
    "print('mediana_valor_emprestimo: \\n',round(mediana_valor_emprestimo,2))\n",
    "print('mediana_prazo_pagamento: \\n',round(mediana_prazo_pagamento,2))\n",
    "print('mediana_limite_credito: \\n',round(mediana_limite_credito,2))\n",
    "print('mediana_n_emprestimos_inadiplentes: \\n',round(mediana_n_emprestimos_inadiplentes,2))"
   ]
  },
  {
   "cell_type": "code",
   "execution_count": 13,
   "id": "f9dd0cbb",
   "metadata": {},
   "outputs": [
    {
     "data": {
      "text/plain": [
       "0.10154776338758102"
      ]
     },
     "execution_count": 13,
     "metadata": {},
     "output_type": "execute_result"
    }
   ],
   "source": [
    "np.std(df['t_risco'])"
   ]
  },
  {
   "cell_type": "code",
   "execution_count": 14,
   "id": "21a721ff",
   "metadata": {},
   "outputs": [
    {
     "data": {
      "text/plain": [
       "count    63807.00\n",
       "mean         0.30\n",
       "std          0.10\n",
       "min          0.00\n",
       "25%          0.22\n",
       "50%          0.29\n",
       "75%          0.36\n",
       "max          0.90\n",
       "Name: t_risco, dtype: float64"
      ]
     },
     "execution_count": 14,
     "metadata": {},
     "output_type": "execute_result"
    }
   ],
   "source": [
    "df['t_risco'].describe().round(2).T"
   ]
  },
  {
   "cell_type": "code",
   "execution_count": 15,
   "id": "88384ed6",
   "metadata": {},
   "outputs": [
    {
     "name": "stdout",
     "output_type": "stream",
     "text": [
      "CV_t_risco: \n",
      " 0.34\n",
      "CV_valor_emprestimo: \n",
      " 0.59\n",
      "CV_prazo_pagamento: \n",
      " 0.25\n",
      "CV_limite_credito: \n",
      " 1.07\n",
      "CV_n_emprestimos_inadiplentes: \n",
      " 16.81\n"
     ]
    }
   ],
   "source": [
    "#calculando o Coeficiente de Variação\n",
    "CV_t_risco = np.std(df['t_risco'])/np.mean(df['t_risco'])\n",
    "CV_valor_emprestimo = np.std(df['valor_emprestimo'])/np.mean(df['valor_emprestimo'])\n",
    "CV_prazo_pagamento = np.std(df['prazo_pagamento'])/np.mean(df['prazo_pagamento'])\n",
    "CV_limite_credito = np.std(df['limite_credito'])/np.mean(df['limite_credito'])\n",
    "CV_n_emprestimos_inadiplentes = np.std(df['n_emprestimos_inadiplentes'])/np.mean(df['n_emprestimos_inadiplentes'])\n",
    "\n",
    "print('CV_t_risco: \\n',round(CV_t_risco,2))\n",
    "print('CV_valor_emprestimo: \\n',round(CV_valor_emprestimo,2))\n",
    "print('CV_prazo_pagamento: \\n',round(CV_prazo_pagamento,2))\n",
    "print('CV_limite_credito: \\n',round(CV_limite_credito,2))\n",
    "print('CV_n_emprestimos_inadiplentes: \\n',round(CV_n_emprestimos_inadiplentes,2))"
   ]
  },
  {
   "cell_type": "markdown",
   "id": "e5fb319e",
   "metadata": {},
   "source": [
    "observamos que:\n",
    "\n",
    "CV_t_risco: 0.34\n",
    "\n",
    "CV_valor_emprestimo: 0.59\n",
    "\n",
    "CV_prazo_pagamento: 0.25\n",
    "\n",
    "CV_limite_credito: 1.07\n",
    "\n",
    "CV_n_emprestimos_inadiplentes: 16.81\n",
    " \n",
    "logo, 't_risco', 'valor_emprestimo', 'limite_credito' e 'n_emprestimos_inadiplentes' possuem alta dispersão, logo não vamos usar a média para substituir os valores NaN. Vamos usar a mediana.   Para prazo_pagamento vamos usar a média."
   ]
  },
  {
   "cell_type": "code",
   "execution_count": 17,
   "id": "95e9401c",
   "metadata": {},
   "outputs": [],
   "source": [
    "#preenche onde esta NaN pela mediana ou media.\n",
    "df['t_risco'].fillna(np.median(df['t_risco']), inplace=True)\n",
    "df['valor_emprestimo'].fillna(np.median(df['valor_emprestimo']), inplace=True)\n",
    "df['limite_credito'].fillna(sts.mode(df['limite_credito']), inplace=True)\n",
    "df['n_emprestimos_inadiplentes'].fillna(np.median(df['n_emprestimos_inadiplentes']), inplace=True)\n",
    "df['prazo_pagamento'].fillna(np.mean(df['prazo_pagamento']), inplace=True)"
   ]
  },
  {
   "cell_type": "code",
   "execution_count": 18,
   "id": "13971e7d",
   "metadata": {},
   "outputs": [
    {
     "data": {
      "text/html": [
       "<div>\n",
       "<style scoped>\n",
       "    .dataframe tbody tr th:only-of-type {\n",
       "        vertical-align: middle;\n",
       "    }\n",
       "\n",
       "    .dataframe tbody tr th {\n",
       "        vertical-align: top;\n",
       "    }\n",
       "\n",
       "    .dataframe thead th {\n",
       "        text-align: right;\n",
       "    }\n",
       "</style>\n",
       "<table border=\"1\" class=\"dataframe\">\n",
       "  <thead>\n",
       "    <tr style=\"text-align: right;\">\n",
       "      <th></th>\n",
       "      <th>default</th>\n",
       "      <th>t_risco</th>\n",
       "      <th>valor_emprestimo</th>\n",
       "      <th>prazo_pagamento</th>\n",
       "      <th>limite_credito</th>\n",
       "      <th>renda</th>\n",
       "      <th>genero</th>\n",
       "      <th>n_emprestimos_inadiplentes</th>\n",
       "    </tr>\n",
       "  </thead>\n",
       "  <tbody>\n",
       "    <tr>\n",
       "      <th>0</th>\n",
       "      <td>False</td>\n",
       "      <td>0.43</td>\n",
       "      <td>20024.31</td>\n",
       "      <td>60.0</td>\n",
       "      <td>62386.0</td>\n",
       "      <td>59869.05</td>\n",
       "      <td>f</td>\n",
       "      <td>0.0</td>\n",
       "    </tr>\n",
       "    <tr>\n",
       "      <th>1</th>\n",
       "      <td>False</td>\n",
       "      <td>0.23</td>\n",
       "      <td>10046.51</td>\n",
       "      <td>36.0</td>\n",
       "      <td>0.0</td>\n",
       "      <td>46016.31</td>\n",
       "      <td>f</td>\n",
       "      <td>0.0</td>\n",
       "    </tr>\n",
       "    <tr>\n",
       "      <th>2</th>\n",
       "      <td>False</td>\n",
       "      <td>0.30</td>\n",
       "      <td>21228.25</td>\n",
       "      <td>60.0</td>\n",
       "      <td>0.0</td>\n",
       "      <td>48025.47</td>\n",
       "      <td>m</td>\n",
       "      <td>0.0</td>\n",
       "    </tr>\n",
       "    <tr>\n",
       "      <th>3</th>\n",
       "      <td>False</td>\n",
       "      <td>0.15</td>\n",
       "      <td>23032.33</td>\n",
       "      <td>36.0</td>\n",
       "      <td>0.0</td>\n",
       "      <td>46011.12</td>\n",
       "      <td>m</td>\n",
       "      <td>0.0</td>\n",
       "    </tr>\n",
       "    <tr>\n",
       "      <th>4</th>\n",
       "      <td>False</td>\n",
       "      <td>0.08</td>\n",
       "      <td>24026.29</td>\n",
       "      <td>36.0</td>\n",
       "      <td>32366.0</td>\n",
       "      <td>90026.17</td>\n",
       "      <td>m</td>\n",
       "      <td>0.0</td>\n",
       "    </tr>\n",
       "    <tr>\n",
       "      <th>5</th>\n",
       "      <td>False</td>\n",
       "      <td>0.22</td>\n",
       "      <td>8007.11</td>\n",
       "      <td>36.0</td>\n",
       "      <td>0.0</td>\n",
       "      <td>43008.57</td>\n",
       "      <td>f</td>\n",
       "      <td>0.0</td>\n",
       "    </tr>\n",
       "    <tr>\n",
       "      <th>6</th>\n",
       "      <td>False</td>\n",
       "      <td>0.42</td>\n",
       "      <td>10072.16</td>\n",
       "      <td>36.0</td>\n",
       "      <td>0.0</td>\n",
       "      <td>39335.52</td>\n",
       "      <td>m</td>\n",
       "      <td>0.0</td>\n",
       "    </tr>\n",
       "    <tr>\n",
       "      <th>7</th>\n",
       "      <td>False</td>\n",
       "      <td>0.42</td>\n",
       "      <td>16016.97</td>\n",
       "      <td>60.0</td>\n",
       "      <td>102018.0</td>\n",
       "      <td>98772.00</td>\n",
       "      <td>m</td>\n",
       "      <td>0.0</td>\n",
       "    </tr>\n",
       "    <tr>\n",
       "      <th>8</th>\n",
       "      <td>False</td>\n",
       "      <td>0.36</td>\n",
       "      <td>11517.24</td>\n",
       "      <td>60.0</td>\n",
       "      <td>0.0</td>\n",
       "      <td>62014.40</td>\n",
       "      <td>f</td>\n",
       "      <td>0.0</td>\n",
       "    </tr>\n",
       "    <tr>\n",
       "      <th>9</th>\n",
       "      <td>False</td>\n",
       "      <td>0.24</td>\n",
       "      <td>11539.08</td>\n",
       "      <td>36.0</td>\n",
       "      <td>82310.0</td>\n",
       "      <td>85022.96</td>\n",
       "      <td>f</td>\n",
       "      <td>0.0</td>\n",
       "    </tr>\n",
       "  </tbody>\n",
       "</table>\n",
       "</div>"
      ],
      "text/plain": [
       "  default  t_risco  valor_emprestimo  prazo_pagamento  limite_credito  \\\n",
       "0   False     0.43          20024.31             60.0         62386.0   \n",
       "1   False     0.23          10046.51             36.0             0.0   \n",
       "2   False     0.30          21228.25             60.0             0.0   \n",
       "3   False     0.15          23032.33             36.0             0.0   \n",
       "4   False     0.08          24026.29             36.0         32366.0   \n",
       "5   False     0.22           8007.11             36.0             0.0   \n",
       "6   False     0.42          10072.16             36.0             0.0   \n",
       "7   False     0.42          16016.97             60.0        102018.0   \n",
       "8   False     0.36          11517.24             60.0             0.0   \n",
       "9   False     0.24          11539.08             36.0         82310.0   \n",
       "\n",
       "      renda genero  n_emprestimos_inadiplentes  \n",
       "0  59869.05      f                         0.0  \n",
       "1  46016.31      f                         0.0  \n",
       "2  48025.47      m                         0.0  \n",
       "3  46011.12      m                         0.0  \n",
       "4  90026.17      m                         0.0  \n",
       "5  43008.57      f                         0.0  \n",
       "6  39335.52      m                         0.0  \n",
       "7  98772.00      m                         0.0  \n",
       "8  62014.40      f                         0.0  \n",
       "9  85022.96      f                         0.0  "
      ]
     },
     "execution_count": 18,
     "metadata": {},
     "output_type": "execute_result"
    }
   ],
   "source": [
    "df.head(10)"
   ]
  },
  {
   "cell_type": "markdown",
   "id": "fe5ed5c5",
   "metadata": {},
   "source": [
    "## Informações sobre a base de dados\n",
    "\n",
    "- 67,75% dos clientes são homens\n",
    "- 32,25% dos clientes são mulheres\n",
    "\n",
    "- 74,8% dos clientes possuem 36 meses para pagar o emprestimo\n",
    "- 24,0% dos clientes possuem 60 meses para pagar o emprestimo\n",
    "- 1,2% dos clientes possuem 41 meses para pagar o emprestimo\n",
    "\n",
    "Vamos agora visualizar graficamente as informações"
   ]
  },
  {
   "cell_type": "code",
   "execution_count": 19,
   "id": "d012cbc1",
   "metadata": {},
   "outputs": [
    {
     "data": {
      "text/plain": [
       "m    0.677525\n",
       "f    0.322475\n",
       "Name: genero, dtype: float64"
      ]
     },
     "execution_count": 19,
     "metadata": {},
     "output_type": "execute_result"
    }
   ],
   "source": [
    "df['genero'].value_counts(normalize=True)"
   ]
  },
  {
   "cell_type": "code",
   "execution_count": 30,
   "id": "894ade75",
   "metadata": {},
   "outputs": [
    {
     "data": {
      "text/plain": [
       "36.000000    0.747662\n",
       "60.000000    0.240185\n",
       "41.835347    0.012153\n",
       "Name: prazo_pagamento, dtype: float64"
      ]
     },
     "execution_count": 30,
     "metadata": {},
     "output_type": "execute_result"
    }
   ],
   "source": [
    "df['prazo_pagamento'].value_counts(normalize=True)"
   ]
  },
  {
   "cell_type": "code",
   "execution_count": 20,
   "id": "12091c7a",
   "metadata": {},
   "outputs": [
    {
     "data": {
      "text/plain": [
       "0.0    0.995924\n",
       "1.0    0.003559\n",
       "2.0    0.000439\n",
       "3.0    0.000063\n",
       "5.0    0.000016\n",
       "Name: n_emprestimos_inadiplentes, dtype: float64"
      ]
     },
     "execution_count": 20,
     "metadata": {},
     "output_type": "execute_result"
    }
   ],
   "source": [
    "df['n_emprestimos_inadiplentes'].value_counts(normalize=True)"
   ]
  },
  {
   "cell_type": "code",
   "execution_count": 21,
   "id": "465c0b27",
   "metadata": {},
   "outputs": [
    {
     "name": "stderr",
     "output_type": "stream",
     "text": [
      "/opt/anaconda3/lib/python3.9/site-packages/seaborn/_decorators.py:36: FutureWarning: Pass the following variable as a keyword arg: x. From version 0.12, the only valid positional argument will be `data`, and passing other arguments without an explicit keyword will result in an error or misinterpretation.\n",
      "  warnings.warn(\n"
     ]
    },
    {
     "data": {
      "text/plain": [
       "Text(0.5, 1.0, 'genero')"
      ]
     },
     "execution_count": 21,
     "metadata": {},
     "output_type": "execute_result"
    },
    {
     "data": {
      "image/png": "[encoded data removed]",
      "text/plain": [
       "<Figure size 432x288 with 1 Axes>"
      ]
     },
     "metadata": {
      "needs_background": "light"
     },
     "output_type": "display_data"
    }
   ],
   "source": [
    "sns.countplot(df['genero'], palette='magma').set_title('genero')"
   ]
  },
  {
   "cell_type": "code",
   "execution_count": 23,
   "id": "f6762938",
   "metadata": {},
   "outputs": [
    {
     "name": "stderr",
     "output_type": "stream",
     "text": [
      "/opt/anaconda3/lib/python3.9/site-packages/seaborn/_decorators.py:36: FutureWarning: Pass the following variable as a keyword arg: x. From version 0.12, the only valid positional argument will be `data`, and passing other arguments without an explicit keyword will result in an error or misinterpretation.\n",
      "  warnings.warn(\n"
     ]
    },
    {
     "data": {
      "text/plain": [
       "Text(0.5, 1.0, 'prazo_pagamento')"
      ]
     },
     "execution_count": 23,
     "metadata": {},
     "output_type": "execute_result"
    },
    {
     "data": {
      "image/png": "[encoded data removed]",
      "text/plain": [
       "<Figure size 432x288 with 1 Axes>"
      ]
     },
     "metadata": {
      "needs_background": "light"
     },
     "output_type": "display_data"
    }
   ],
   "source": [
    "sns.countplot(df['prazo_pagamento'], palette='magma').set_title('prazo_pagamento')"
   ]
  },
  {
   "cell_type": "code",
   "execution_count": null,
   "id": "6e2d0775",
   "metadata": {},
   "outputs": [
    {
     "name": "stderr",
     "output_type": "stream",
     "text": [
      "/opt/anaconda3/lib/python3.9/site-packages/seaborn/_decorators.py:36: FutureWarning: Pass the following variable as a keyword arg: x. From version 0.12, the only valid positional argument will be `data`, and passing other arguments without an explicit keyword will result in an error or misinterpretation.\n",
      "  warnings.warn(\n"
     ]
    },
    {
     "data": {
      "text/plain": [
       "Text(0.5, 1.0, 'renda')"
      ]
     },
     "execution_count": 57,
     "metadata": {},
     "output_type": "execute_result"
    }
   ],
   "source": [
    "sns.countplot(df['renda'], color='pink').set_title('renda')"
   ]
  },
  {
   "cell_type": "code",
   "execution_count": 35,
   "id": "e46c3fab",
   "metadata": {},
   "outputs": [
    {
     "name": "stderr",
     "output_type": "stream",
     "text": [
      "/opt/anaconda3/lib/python3.9/site-packages/seaborn/distributions.py:2619: FutureWarning: `distplot` is a deprecated function and will be removed in a future version. Please adapt your code to use either `displot` (a figure-level function with similar flexibility) or `histplot` (an axes-level function for histograms).\n",
      "  warnings.warn(msg, FutureWarning)\n"
     ]
    },
    {
     "data": {
      "text/plain": [
       "Text(0.5, 1.0, 't_risco')"
      ]
     },
     "execution_count": 35,
     "metadata": {},
     "output_type": "execute_result"
    },
    {
     "data": {
      "image/png": "[encoded data removed]",
      "text/plain": [
       "<Figure size 432x288 with 1 Axes>"
      ]
     },
     "metadata": {
      "needs_background": "light"
     },
     "output_type": "display_data"
    }
   ],
   "source": [
    "#avaliando que tipo de distribuicao nos temos para t_risco\n",
    "sns.distplot(df['t_risco'], bins=100, rug=False, color='blue').set_title('t_risco')"
   ]
  },
  {
   "cell_type": "code",
   "execution_count": 37,
   "id": "d4d11830",
   "metadata": {},
   "outputs": [
    {
     "name": "stderr",
     "output_type": "stream",
     "text": [
      "/opt/anaconda3/lib/python3.9/site-packages/seaborn/_decorators.py:36: FutureWarning: Pass the following variable as a keyword arg: x. From version 0.12, the only valid positional argument will be `data`, and passing other arguments without an explicit keyword will result in an error or misinterpretation.\n",
      "  warnings.warn(\n"
     ]
    },
    {
     "data": {
      "text/plain": [
       "Text(0.5, 1.0, 't_risco')"
      ]
     },
     "execution_count": 37,
     "metadata": {},
     "output_type": "execute_result"
    },
    {
     "data": {
      "image/png": "[encoded data removed]",
      "text/plain": [
       "<Figure size 432x288 with 1 Axes>"
      ]
     },
     "metadata": {
      "needs_background": "light"
     },
     "output_type": "display_data"
    }
   ],
   "source": [
    "#boxplot para t_risco\n",
    "sns.boxplot(df['t_risco'], showmeans=True).set_title('t_risco')"
   ]
  },
  {
   "cell_type": "markdown",
   "id": "715441bf",
   "metadata": {},
   "source": [
    "### Análise Bivariada\n",
    "Vamos agora observar as relações entre as variáveis."
   ]
  },
  {
   "cell_type": "code",
   "execution_count": 43,
   "id": "27ec923c",
   "metadata": {},
   "outputs": [
    {
     "name": "stderr",
     "output_type": "stream",
     "text": [
      "/opt/anaconda3/lib/python3.9/site-packages/seaborn/_decorators.py:36: FutureWarning: Pass the following variable as a keyword arg: x. From version 0.12, the only valid positional argument will be `data`, and passing other arguments without an explicit keyword will result in an error or misinterpretation.\n",
      "  warnings.warn(\n"
     ]
    },
    {
     "data": {
      "text/plain": [
       "<AxesSubplot:xlabel='t_risco', ylabel='count'>"
      ]
     },
     "execution_count": 43,
     "metadata": {},
     "output_type": "execute_result"
    },
    {
     "data": {
      "image/png": "[encoded data removed]",
      "text/plain": [
       "<Figure size 432x288 with 1 Axes>"
      ]
     },
     "metadata": {
      "needs_background": "light"
     },
     "output_type": "display_data"
    }
   ],
   "source": [
    "sns.countplot(df['t_risco'], hue=df.genero, palette='pastel')"
   ]
  },
  {
   "cell_type": "code",
   "execution_count": 50,
   "id": "9a9c8d7a",
   "metadata": {},
   "outputs": [
    {
     "name": "stderr",
     "output_type": "stream",
     "text": [
      "/opt/anaconda3/lib/python3.9/site-packages/seaborn/_decorators.py:36: FutureWarning: Pass the following variable as a keyword arg: x. From version 0.12, the only valid positional argument will be `data`, and passing other arguments without an explicit keyword will result in an error or misinterpretation.\n",
      "  warnings.warn(\n"
     ]
    },
    {
     "data": {
      "text/plain": [
       "<AxesSubplot:xlabel='t_risco', ylabel='count'>"
      ]
     },
     "execution_count": 50,
     "metadata": {},
     "output_type": "execute_result"
    },
    {
     "data": {
      "image/png": "[encoded data removed]",
      "text/plain": [
       "<Figure size 432x288 with 1 Axes>"
      ]
     },
     "metadata": {
      "needs_background": "light"
     },
     "output_type": "display_data"
    }
   ],
   "source": [
    "sns.countplot(df['t_risco'].round(2), hue=df['prazo_pagamento'].round(2), palette='pastel')"
   ]
  },
  {
   "cell_type": "code",
   "execution_count": 51,
   "id": "5a1eba7f",
   "metadata": {},
   "outputs": [
    {
     "data": {
      "text/plain": [
       "<AxesSubplot:xlabel='genero', ylabel='t_risco'>"
      ]
     },
     "execution_count": 51,
     "metadata": {},
     "output_type": "execute_result"
    },
    {
     "data": {
      "image/png": "[encoded data removed]",
      "text/plain": [
       "<Figure size 432x288 with 1 Axes>"
      ]
     },
     "metadata": {
      "needs_background": "light"
     },
     "output_type": "display_data"
    }
   ],
   "source": [
    "sns.boxplot(data=df, x=\"genero\", y=\"t_risco\",palette='flare')"
   ]
  },
  {
   "cell_type": "code",
   "execution_count": null,
   "id": "40db39bd",
   "metadata": {},
   "outputs": [],
   "source": []
  }
 ],
 "metadata": {
  "kernelspec": {
   "display_name": "Python 3 (ipykernel)",
   "language": "python",
   "name": "python3"
  },
  "language_info": {
   "codemirror_mode": {
    "name": "ipython",
    "version": 3
   },
   "file_extension": ".py",
   "mimetype": "text/x-python",
   "name": "python",
   "nbconvert_exporter": "python",
   "pygments_lexer": "ipython3",
   "version": "3.9.7"
  }
 },
 "nbformat": 4,
 "nbformat_minor": 5
}
